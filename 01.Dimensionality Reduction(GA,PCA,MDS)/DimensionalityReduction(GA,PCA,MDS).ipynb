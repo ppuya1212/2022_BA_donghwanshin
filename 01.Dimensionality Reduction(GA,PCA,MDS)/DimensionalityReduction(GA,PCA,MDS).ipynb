{
 "cells": [
  {
   "cell_type": "markdown",
   "id": "a22b179d",
   "metadata": {},
   "source": [
    "# GA(Genetic Algorithm):  Supervised Feature Selection"
   ]
  },
  {
   "cell_type": "code",
   "execution_count": null,
   "id": "d1503a80",
   "metadata": {},
   "outputs": [],
   "source": [
    "Step 1: Initialization, Chromosome(염색체) 벡터를 binary값으로 인코딩함 <- 초기 variable selection\n",
    "Step 2: Fitness Evaluation(적합도 평가), Adjust𝑒𝑑 𝑅^2 와 같은 기법으로 각 벡터의 적합도를 평가 후 rank\u000b",
    "(Probabilistic chromosome selection을 위해서 적합도 평가를 진행함)\n",
    "Step 3: Selection, Deterministic(단순 rank만 고려)/Probabilistic(확률값 고려) selection이 존재\n",
    "Step 4,5: Crossover(교배) & Mutation(돌연변이), 두 자식 염색체에서의 교배 및 돌연변이  diversity 증가\n",
    "Step 6: Final the best variable subset, 적합도가 가장 높은 염색체만은 선택함\n"
   ]
  },
  {
   "cell_type": "code",
   "execution_count": 2,
   "id": "f806021b",
   "metadata": {},
   "outputs": [],
   "source": [
    "import numpy as np "
   ]
  },
  {
   "cell_type": "code",
   "execution_count": 3,
   "id": "936fc491",
   "metadata": {},
   "outputs": [],
   "source": [
    "# fitness함수 정의 및 평가\n",
    "def calculate_fitness(solution):\n",
    "    return np.array(solution).dot(parameters)"
   ]
  },
  {
   "cell_type": "code",
   "execution_count": 4,
   "id": "b2d47d83",
   "metadata": {},
   "outputs": [],
   "source": [
    "# 초기 파라미터 설정\n",
    "parameters = np.array([5,-3,6,3.9,-18,-4.4])"
   ]
  },
  {
   "cell_type": "code",
   "execution_count": 9,
   "id": "8de47728",
   "metadata": {},
   "outputs": [],
   "source": [
    "## first initial population ## \n",
    "initial_population = [list(np.random.normal(0, 1, 6)) for i in range(0, 8)]"
   ]
  },
  {
   "cell_type": "code",
   "execution_count": 10,
   "id": "192df17b",
   "metadata": {},
   "outputs": [
    {
     "name": "stdout",
     "output_type": "stream",
     "text": [
      "optimal fitness in 00 generation: 29.977433423519443\n",
      "optimal fitness in 01 generation: 35.669116888443654\n",
      "optimal fitness in 02 generation: 56.5283700063082\n",
      "optimal fitness in 03 generation: 73.29191475099975\n",
      "optimal fitness in 04 generation: 98.567073325518\n",
      "optimal fitness in 05 generation: 98.567073325518\n",
      "optimal fitness in 06 generation: 125.2974066685911\n",
      "optimal fitness in 07 generation: 130.4437988216635\n",
      "optimal fitness in 08 generation: 145.00375164322335\n",
      "optimal fitness in 09 generation: 160.55023842374476\n"
     ]
    }
   ],
   "source": [
    "for i in range(0, 10):\n",
    "    # Deterministic selection ## 현재 솔루션 중에서 가장 성과가 좋은 것만 가져감\n",
    "    new_parents = sorted(initial_population, key=calculate_fitness, reverse=True)[:4]\n",
    "    print(f\"optimal fitness in {i:0>2d} generation: {calculate_fitness(new_parents[0])}\")\n",
    "    # Crossovers # 2개의 염색체\n",
    "    crossovers = [\n",
    "        new_parents[0][:3]+new_parents[1][3:],\n",
    "        new_parents[1][:3]+new_parents[0][3:],\n",
    "    ]\n",
    "    # Mutations # 2개의 염색체\n",
    "    mutations = [\n",
    "        list(np.array(new_parents[0])+np.random.normal(0, 1, 6)), \n",
    "        list(np.array(new_parents[0])+np.random.normal(0, 1, 6)),\n",
    "    ]\n",
    "    \n",
    "    # fitness로 선택된 염색체 + 교배염색체 + 돌연변이 염색체\n",
    "    initial_population = new_parents + crossovers + mutations "
   ]
  },
  {
   "cell_type": "code",
   "execution_count": 15,
   "id": "44a28888",
   "metadata": {},
   "outputs": [],
   "source": [
    "## Second initial population ## \n",
    "initial_population = [list(np.random.normal(0, 1, 6)) for i in range(0, 8)]"
   ]
  },
  {
   "cell_type": "code",
   "execution_count": 16,
   "id": "63695850",
   "metadata": {},
   "outputs": [
    {
     "name": "stdout",
     "output_type": "stream",
     "text": [
      "optimal fitness in 00 generation: 14.138083970114188\n",
      "optimal fitness in 01 generation: 18.313224392083836\n",
      "optimal fitness in 02 generation: 54.7882123768372\n",
      "optimal fitness in 03 generation: 70.64678976891265\n",
      "optimal fitness in 04 generation: 77.57908092467169\n",
      "optimal fitness in 05 generation: 84.22029974829256\n",
      "optimal fitness in 06 generation: 85.90299346106077\n",
      "optimal fitness in 07 generation: 108.93853058626696\n",
      "optimal fitness in 08 generation: 114.92806550371381\n",
      "optimal fitness in 09 generation: 121.1286978214745\n"
     ]
    }
   ],
   "source": [
    "for i in range(0, 10):\n",
    "    # Deterministic selection ## 현재 솔루션 중에서 가장 성과가 좋은 것만 가져감\n",
    "    new_parents = sorted(initial_population, key=calculate_fitness, reverse=True)[:4]\n",
    "    print(f\"optimal fitness in {i:0>2d} generation: {calculate_fitness(new_parents[0])}\")\n",
    "    # Crossovers # 2개의 염색체\n",
    "    crossovers = [\n",
    "        new_parents[0][:3]+new_parents[1][3:],\n",
    "        new_parents[1][:3]+new_parents[0][3:],\n",
    "    ]\n",
    "    # Mutations # 2개의 염색체\n",
    "    mutations = [\n",
    "        list(np.array(new_parents[0])+np.random.normal(0, 1, 6)), \n",
    "        list(np.array(new_parents[0])+np.random.normal(0, 1, 6)),\n",
    "    ]\n",
    "    \n",
    "    # fitness로 선택된 염색체 + 교배염색체 + 돌연변이 염색체\n",
    "    initial_population = new_parents + crossovers + mutations "
   ]
  },
  {
   "cell_type": "code",
   "execution_count": 13,
   "id": "3fea4387",
   "metadata": {},
   "outputs": [],
   "source": [
    "## thrid initial population ## \n",
    "initial_population = [list(np.random.normal(0, 1, 6)) for i in range(0, 8)]"
   ]
  },
  {
   "cell_type": "code",
   "execution_count": 14,
   "id": "6a24df29",
   "metadata": {},
   "outputs": [
    {
     "name": "stdout",
     "output_type": "stream",
     "text": [
      "optimal fitness in 00 generation: 25.317097447682606\n",
      "optimal fitness in 01 generation: 28.667215843547325\n",
      "optimal fitness in 02 generation: 68.10290642401448\n",
      "optimal fitness in 03 generation: 69.63756495872613\n",
      "optimal fitness in 04 generation: 109.16668288625813\n",
      "optimal fitness in 05 generation: 123.81834377189274\n",
      "optimal fitness in 06 generation: 131.13319072053366\n",
      "optimal fitness in 07 generation: 131.5746851644749\n",
      "optimal fitness in 08 generation: 139.348801027169\n",
      "optimal fitness in 09 generation: 161.1954730686012\n"
     ]
    }
   ],
   "source": [
    "for i in range(0, 10):\n",
    "    # Deterministic selection ## 현재 솔루션 중에서 가장 성과가 좋은 것만 가져감\n",
    "    new_parents = sorted(initial_population, key=calculate_fitness, reverse=True)[:4]\n",
    "    print(f\"optimal fitness in {i:0>2d} generation: {calculate_fitness(new_parents[0])}\")\n",
    "    # Crossovers # 2개의 염색체\n",
    "    crossovers = [\n",
    "        new_parents[0][:3]+new_parents[1][3:],\n",
    "        new_parents[1][:3]+new_parents[0][3:],\n",
    "    ]\n",
    "    # Mutations # 2개의 염색체\n",
    "    mutations = [\n",
    "        list(np.array(new_parents[0])+np.random.normal(0, 1, 6)), \n",
    "        list(np.array(new_parents[0])+np.random.normal(0, 1, 6)),\n",
    "    ]\n",
    "    \n",
    "    # fitness로 선택된 염색체 + 교배염색체 + 돌연변이 염색체\n",
    "    initial_population = new_parents + crossovers + mutations "
   ]
  },
  {
   "cell_type": "code",
   "execution_count": null,
   "id": "828f5f54",
   "metadata": {},
   "outputs": [],
   "source": [
    "*결론: GA에선 초기에 대부분 수렴이 되므로, 후반보다 초반에 높게 적합도 점수가 나오는 것을 3번의 실험에서 알 수 있음"
   ]
  },
  {
   "cell_type": "markdown",
   "id": "55878317",
   "metadata": {},
   "source": [
    "# PCA(Principal Component Analysis): Unsupervised Feature extraction"
   ]
  },
  {
   "cell_type": "code",
   "execution_count": null,
   "id": "0d5d6e75",
   "metadata": {},
   "outputs": [],
   "source": [
    "1. 데이터의 정규화\n",
    "2. 기존 변수의 공분산 행렬계산\n",
    "3. 공분산행렬로부터 eigenvalue및 이에 해당되는 eigenvector계산\n",
    "4. eigenvalue가 높은 eigenvector순으로 정렬\n",
    "5. 정렬된 eigenvector를 순서로 기존변수에 linear combinatiion하여 새로운 변수 생성"
   ]
  },
  {
   "cell_type": "code",
   "execution_count": 17,
   "id": "7dac7e97",
   "metadata": {},
   "outputs": [],
   "source": [
    "from sklearn.decomposition import PCA\n",
    "from sklearn.preprocessing import StandardScaler\n",
    "import numpy as np\n",
    "import pandas as pd\n",
    "import random\n",
    "from scipy.stats import beta\n",
    "import matplotlib.pyplot as plt\n",
    "%matplotlib inline"
   ]
  },
  {
   "cell_type": "code",
   "execution_count": 18,
   "id": "beb8f6ec",
   "metadata": {},
   "outputs": [],
   "source": [
    "wine_data = pd.read_excel(r'2022_BA_donghwanshin\\data\\Wine.xls')"
   ]
  },
  {
   "cell_type": "code",
   "execution_count": 19,
   "id": "ba6d7243",
   "metadata": {},
   "outputs": [
    {
     "data": {
      "text/plain": [
       "B    71\n",
       "A    59\n",
       "C    48\n",
       "Name: Type, dtype: int64"
      ]
     },
     "execution_count": 19,
     "metadata": {},
     "output_type": "execute_result"
    }
   ],
   "source": [
    "wine_data['Type'].value_counts()"
   ]
  },
  {
   "cell_type": "code",
   "execution_count": 20,
   "id": "a5aed183",
   "metadata": {},
   "outputs": [
    {
     "data": {
      "text/html": [
       "<div>\n",
       "<style scoped>\n",
       "    .dataframe tbody tr th:only-of-type {\n",
       "        vertical-align: middle;\n",
       "    }\n",
       "\n",
       "    .dataframe tbody tr th {\n",
       "        vertical-align: top;\n",
       "    }\n",
       "\n",
       "    .dataframe thead th {\n",
       "        text-align: right;\n",
       "    }\n",
       "</style>\n",
       "<table border=\"1\" class=\"dataframe\">\n",
       "  <thead>\n",
       "    <tr style=\"text-align: right;\">\n",
       "      <th></th>\n",
       "      <th>Type</th>\n",
       "      <th>Alcohol</th>\n",
       "      <th>Malic_Acid</th>\n",
       "      <th>Ash</th>\n",
       "      <th>Ash_Alcalinity</th>\n",
       "      <th>Magnesium</th>\n",
       "      <th>Total_Phenols</th>\n",
       "      <th>Flavanoids</th>\n",
       "      <th>Nonflavanoid_Phenols</th>\n",
       "      <th>Proanthocyanins</th>\n",
       "      <th>Color_Intensity</th>\n",
       "      <th>Hue</th>\n",
       "      <th>OD280_OD315</th>\n",
       "      <th>Proline</th>\n",
       "    </tr>\n",
       "  </thead>\n",
       "  <tbody>\n",
       "    <tr>\n",
       "      <th>0</th>\n",
       "      <td>A</td>\n",
       "      <td>14.23</td>\n",
       "      <td>1.71</td>\n",
       "      <td>2.43</td>\n",
       "      <td>15.6</td>\n",
       "      <td>127</td>\n",
       "      <td>2.80</td>\n",
       "      <td>3.06</td>\n",
       "      <td>0.28</td>\n",
       "      <td>2.29</td>\n",
       "      <td>5.64</td>\n",
       "      <td>1.04</td>\n",
       "      <td>3.92</td>\n",
       "      <td>1065</td>\n",
       "    </tr>\n",
       "    <tr>\n",
       "      <th>1</th>\n",
       "      <td>A</td>\n",
       "      <td>13.20</td>\n",
       "      <td>1.78</td>\n",
       "      <td>2.14</td>\n",
       "      <td>11.2</td>\n",
       "      <td>100</td>\n",
       "      <td>2.65</td>\n",
       "      <td>2.76</td>\n",
       "      <td>0.26</td>\n",
       "      <td>1.28</td>\n",
       "      <td>4.38</td>\n",
       "      <td>1.05</td>\n",
       "      <td>3.40</td>\n",
       "      <td>1050</td>\n",
       "    </tr>\n",
       "    <tr>\n",
       "      <th>2</th>\n",
       "      <td>A</td>\n",
       "      <td>13.16</td>\n",
       "      <td>2.36</td>\n",
       "      <td>2.67</td>\n",
       "      <td>18.6</td>\n",
       "      <td>101</td>\n",
       "      <td>2.80</td>\n",
       "      <td>3.24</td>\n",
       "      <td>0.30</td>\n",
       "      <td>2.81</td>\n",
       "      <td>5.68</td>\n",
       "      <td>1.03</td>\n",
       "      <td>3.17</td>\n",
       "      <td>1185</td>\n",
       "    </tr>\n",
       "    <tr>\n",
       "      <th>3</th>\n",
       "      <td>A</td>\n",
       "      <td>14.37</td>\n",
       "      <td>1.95</td>\n",
       "      <td>2.50</td>\n",
       "      <td>16.8</td>\n",
       "      <td>113</td>\n",
       "      <td>3.85</td>\n",
       "      <td>3.49</td>\n",
       "      <td>0.24</td>\n",
       "      <td>2.18</td>\n",
       "      <td>7.80</td>\n",
       "      <td>0.86</td>\n",
       "      <td>3.45</td>\n",
       "      <td>1480</td>\n",
       "    </tr>\n",
       "    <tr>\n",
       "      <th>4</th>\n",
       "      <td>A</td>\n",
       "      <td>13.24</td>\n",
       "      <td>2.59</td>\n",
       "      <td>2.87</td>\n",
       "      <td>21.0</td>\n",
       "      <td>118</td>\n",
       "      <td>2.80</td>\n",
       "      <td>2.69</td>\n",
       "      <td>0.39</td>\n",
       "      <td>1.82</td>\n",
       "      <td>4.32</td>\n",
       "      <td>1.04</td>\n",
       "      <td>2.93</td>\n",
       "      <td>735</td>\n",
       "    </tr>\n",
       "    <tr>\n",
       "      <th>...</th>\n",
       "      <td>...</td>\n",
       "      <td>...</td>\n",
       "      <td>...</td>\n",
       "      <td>...</td>\n",
       "      <td>...</td>\n",
       "      <td>...</td>\n",
       "      <td>...</td>\n",
       "      <td>...</td>\n",
       "      <td>...</td>\n",
       "      <td>...</td>\n",
       "      <td>...</td>\n",
       "      <td>...</td>\n",
       "      <td>...</td>\n",
       "      <td>...</td>\n",
       "    </tr>\n",
       "    <tr>\n",
       "      <th>173</th>\n",
       "      <td>C</td>\n",
       "      <td>13.71</td>\n",
       "      <td>5.65</td>\n",
       "      <td>2.45</td>\n",
       "      <td>20.5</td>\n",
       "      <td>95</td>\n",
       "      <td>1.68</td>\n",
       "      <td>0.61</td>\n",
       "      <td>0.52</td>\n",
       "      <td>1.06</td>\n",
       "      <td>7.70</td>\n",
       "      <td>0.64</td>\n",
       "      <td>1.74</td>\n",
       "      <td>740</td>\n",
       "    </tr>\n",
       "    <tr>\n",
       "      <th>174</th>\n",
       "      <td>C</td>\n",
       "      <td>13.40</td>\n",
       "      <td>3.91</td>\n",
       "      <td>2.48</td>\n",
       "      <td>23.0</td>\n",
       "      <td>102</td>\n",
       "      <td>1.80</td>\n",
       "      <td>0.75</td>\n",
       "      <td>0.43</td>\n",
       "      <td>1.41</td>\n",
       "      <td>7.30</td>\n",
       "      <td>0.70</td>\n",
       "      <td>1.56</td>\n",
       "      <td>750</td>\n",
       "    </tr>\n",
       "    <tr>\n",
       "      <th>175</th>\n",
       "      <td>C</td>\n",
       "      <td>13.27</td>\n",
       "      <td>4.28</td>\n",
       "      <td>2.26</td>\n",
       "      <td>20.0</td>\n",
       "      <td>120</td>\n",
       "      <td>1.59</td>\n",
       "      <td>0.69</td>\n",
       "      <td>0.43</td>\n",
       "      <td>1.35</td>\n",
       "      <td>10.20</td>\n",
       "      <td>0.59</td>\n",
       "      <td>1.56</td>\n",
       "      <td>835</td>\n",
       "    </tr>\n",
       "    <tr>\n",
       "      <th>176</th>\n",
       "      <td>C</td>\n",
       "      <td>13.17</td>\n",
       "      <td>2.59</td>\n",
       "      <td>2.37</td>\n",
       "      <td>20.0</td>\n",
       "      <td>120</td>\n",
       "      <td>1.65</td>\n",
       "      <td>0.68</td>\n",
       "      <td>0.53</td>\n",
       "      <td>1.46</td>\n",
       "      <td>9.30</td>\n",
       "      <td>0.60</td>\n",
       "      <td>1.62</td>\n",
       "      <td>840</td>\n",
       "    </tr>\n",
       "    <tr>\n",
       "      <th>177</th>\n",
       "      <td>C</td>\n",
       "      <td>14.13</td>\n",
       "      <td>4.10</td>\n",
       "      <td>2.74</td>\n",
       "      <td>24.5</td>\n",
       "      <td>96</td>\n",
       "      <td>2.05</td>\n",
       "      <td>0.76</td>\n",
       "      <td>0.56</td>\n",
       "      <td>1.35</td>\n",
       "      <td>9.20</td>\n",
       "      <td>0.61</td>\n",
       "      <td>1.60</td>\n",
       "      <td>560</td>\n",
       "    </tr>\n",
       "  </tbody>\n",
       "</table>\n",
       "<p>178 rows × 14 columns</p>\n",
       "</div>"
      ],
      "text/plain": [
       "    Type  Alcohol  Malic_Acid   Ash  Ash_Alcalinity  Magnesium  Total_Phenols  \\\n",
       "0      A    14.23        1.71  2.43            15.6        127           2.80   \n",
       "1      A    13.20        1.78  2.14            11.2        100           2.65   \n",
       "2      A    13.16        2.36  2.67            18.6        101           2.80   \n",
       "3      A    14.37        1.95  2.50            16.8        113           3.85   \n",
       "4      A    13.24        2.59  2.87            21.0        118           2.80   \n",
       "..   ...      ...         ...   ...             ...        ...            ...   \n",
       "173    C    13.71        5.65  2.45            20.5         95           1.68   \n",
       "174    C    13.40        3.91  2.48            23.0        102           1.80   \n",
       "175    C    13.27        4.28  2.26            20.0        120           1.59   \n",
       "176    C    13.17        2.59  2.37            20.0        120           1.65   \n",
       "177    C    14.13        4.10  2.74            24.5         96           2.05   \n",
       "\n",
       "     Flavanoids  Nonflavanoid_Phenols  Proanthocyanins  Color_Intensity   Hue  \\\n",
       "0          3.06                  0.28             2.29             5.64  1.04   \n",
       "1          2.76                  0.26             1.28             4.38  1.05   \n",
       "2          3.24                  0.30             2.81             5.68  1.03   \n",
       "3          3.49                  0.24             2.18             7.80  0.86   \n",
       "4          2.69                  0.39             1.82             4.32  1.04   \n",
       "..          ...                   ...              ...              ...   ...   \n",
       "173        0.61                  0.52             1.06             7.70  0.64   \n",
       "174        0.75                  0.43             1.41             7.30  0.70   \n",
       "175        0.69                  0.43             1.35            10.20  0.59   \n",
       "176        0.68                  0.53             1.46             9.30  0.60   \n",
       "177        0.76                  0.56             1.35             9.20  0.61   \n",
       "\n",
       "     OD280_OD315  Proline  \n",
       "0           3.92     1065  \n",
       "1           3.40     1050  \n",
       "2           3.17     1185  \n",
       "3           3.45     1480  \n",
       "4           2.93      735  \n",
       "..           ...      ...  \n",
       "173         1.74      740  \n",
       "174         1.56      750  \n",
       "175         1.56      835  \n",
       "176         1.62      840  \n",
       "177         1.60      560  \n",
       "\n",
       "[178 rows x 14 columns]"
      ]
     },
     "execution_count": 20,
     "metadata": {},
     "output_type": "execute_result"
    }
   ],
   "source": [
    "wine_data"
   ]
  },
  {
   "cell_type": "code",
   "execution_count": 21,
   "id": "a9a40391",
   "metadata": {},
   "outputs": [
    {
     "name": "stdout",
     "output_type": "stream",
     "text": [
      "<class 'pandas.core.frame.DataFrame'>\n",
      "RangeIndex: 178 entries, 0 to 177\n",
      "Data columns (total 14 columns):\n",
      " #   Column                Non-Null Count  Dtype  \n",
      "---  ------                --------------  -----  \n",
      " 0   Type                  178 non-null    object \n",
      " 1   Alcohol               178 non-null    float64\n",
      " 2   Malic_Acid            178 non-null    float64\n",
      " 3   Ash                   178 non-null    float64\n",
      " 4   Ash_Alcalinity        178 non-null    float64\n",
      " 5   Magnesium             178 non-null    int64  \n",
      " 6   Total_Phenols         178 non-null    float64\n",
      " 7   Flavanoids            178 non-null    float64\n",
      " 8   Nonflavanoid_Phenols  178 non-null    float64\n",
      " 9   Proanthocyanins       178 non-null    float64\n",
      " 10  Color_Intensity       178 non-null    float64\n",
      " 11  Hue                   178 non-null    float64\n",
      " 12  OD280_OD315           178 non-null    float64\n",
      " 13  Proline               178 non-null    int64  \n",
      "dtypes: float64(11), int64(2), object(1)\n",
      "memory usage: 19.6+ KB\n"
     ]
    }
   ],
   "source": [
    "wine_data.info()"
   ]
  },
  {
   "cell_type": "code",
   "execution_count": 22,
   "id": "5d836e64",
   "metadata": {},
   "outputs": [],
   "source": [
    "y = wine_data['Type']"
   ]
  },
  {
   "cell_type": "code",
   "execution_count": 23,
   "id": "257df97f",
   "metadata": {},
   "outputs": [
    {
     "data": {
      "text/plain": [
       "Index(['Alcohol', 'Malic_Acid', 'Ash', 'Ash_Alcalinity', 'Magnesium',\n",
       "       'Total_Phenols', 'Flavanoids', 'Nonflavanoid_Phenols',\n",
       "       'Proanthocyanins', 'Color_Intensity', 'Hue', 'OD280_OD315', 'Proline'],\n",
       "      dtype='object')"
      ]
     },
     "execution_count": 23,
     "metadata": {},
     "output_type": "execute_result"
    }
   ],
   "source": [
    "wine_data.columns[1:]"
   ]
  },
  {
   "cell_type": "code",
   "execution_count": 24,
   "id": "bcf0ee88",
   "metadata": {},
   "outputs": [
    {
     "data": {
      "text/plain": [
       "array([[ 1.51861254, -0.5622498 ,  0.23205254, ...,  0.36217728,\n",
       "         1.84791957,  1.01300893],\n",
       "       [ 0.24628963, -0.49941338, -0.82799632, ...,  0.40605066,\n",
       "         1.1134493 ,  0.96524152],\n",
       "       [ 0.19687903,  0.02123125,  1.10933436, ...,  0.31830389,\n",
       "         0.78858745,  1.39514818],\n",
       "       ...,\n",
       "       [ 0.33275817,  1.74474449, -0.38935541, ..., -1.61212515,\n",
       "        -1.48544548,  0.28057537],\n",
       "       [ 0.20923168,  0.22769377,  0.01273209, ..., -1.56825176,\n",
       "        -1.40069891,  0.29649784],\n",
       "       [ 1.39508604,  1.58316512,  1.36520822, ..., -1.52437837,\n",
       "        -1.42894777, -0.59516041]])"
      ]
     },
     "execution_count": 24,
     "metadata": {},
     "output_type": "execute_result"
    }
   ],
   "source": [
    "# standard scale: 정규화\n",
    "wine_df= StandardScaler().fit_transform(wine_data.drop('Type',axis=1))\n",
    "wine_df"
   ]
  },
  {
   "cell_type": "code",
   "execution_count": 25,
   "id": "f5a82fd3",
   "metadata": {},
   "outputs": [],
   "source": [
    "wine_df = pd.DataFrame(wine_df, columns=wine_data.columns[1:])"
   ]
  },
  {
   "cell_type": "code",
   "execution_count": 26,
   "id": "f6989628",
   "metadata": {},
   "outputs": [],
   "source": [
    "#PCA 주성분분석 진행\n",
    "pca_out = PCA().fit(wine_df)"
   ]
  },
  {
   "cell_type": "code",
   "execution_count": 34,
   "id": "c66ddc75",
   "metadata": {},
   "outputs": [
    {
     "data": {
      "text/plain": [
       "array([4.73243698, 2.51108093, 1.45424187, 0.92416587, 0.85804868,\n",
       "       0.64528221, 0.55414147, 0.35046627, 0.29051203, 0.25232001,\n",
       "       0.22706428, 0.16972374, 0.10396199])"
      ]
     },
     "execution_count": 34,
     "metadata": {},
     "output_type": "execute_result"
    }
   ],
   "source": [
    "# 각 변수들의 eigenvalues 값 산출(variance explained by each PC)  \n",
    "pca_out.explained_variance_"
   ]
  },
  {
   "cell_type": "code",
   "execution_count": 27,
   "id": "f75981c4",
   "metadata": {},
   "outputs": [
    {
     "data": {
      "text/plain": [
       "array([0.36198848, 0.1920749 , 0.11123631, 0.0706903 , 0.06563294,\n",
       "       0.04935823, 0.04238679, 0.02680749, 0.02222153, 0.01930019,\n",
       "       0.01736836, 0.01298233, 0.00795215])"
      ]
     },
     "execution_count": 27,
     "metadata": {},
     "output_type": "execute_result"
    }
   ],
   "source": [
    "# Proportion of Variance 변수별 분산 크기 측정 (from PC1 to PC6)\n",
    "pca_out.explained_variance_ratio_"
   ]
  },
  {
   "cell_type": "code",
   "execution_count": 28,
   "id": "04932d41",
   "metadata": {},
   "outputs": [
    {
     "data": {
      "text/plain": [
       "array([0.36198848, 0.55406338, 0.66529969, 0.73598999, 0.80162293,\n",
       "       0.85098116, 0.89336795, 0.92017544, 0.94239698, 0.96169717,\n",
       "       0.97906553, 0.99204785, 1.        ])"
      ]
     },
     "execution_count": 28,
     "metadata": {},
     "output_type": "execute_result"
    }
   ],
   "source": [
    "# Cumulative proportion of variance(누적분산 측정) (from PC1 to PC13)   \n",
    "np.cumsum(pca_out.explained_variance_ratio_)"
   ]
  },
  {
   "cell_type": "code",
   "execution_count": 30,
   "id": "56f9b4a9",
   "metadata": {},
   "outputs": [
    {
     "data": {
      "text/plain": [
       "13"
      ]
     },
     "execution_count": 30,
     "metadata": {},
     "output_type": "execute_result"
    }
   ],
   "source": [
    "# component loadings: 각 변수들의 eigenvector들을 나타냄\n",
    "# the squared loadings within the PCs always sums to 1\n",
    "loadings = pca_out.components_ #correlation coefficient #상관관계 분석\n",
    "num_pc = pca_out.n_features_"
   ]
  },
  {
   "cell_type": "code",
   "execution_count": 32,
   "id": "e751ca0e",
   "metadata": {},
   "outputs": [
    {
     "data": {
      "text/html": [
       "<div>\n",
       "<style scoped>\n",
       "    .dataframe tbody tr th:only-of-type {\n",
       "        vertical-align: middle;\n",
       "    }\n",
       "\n",
       "    .dataframe tbody tr th {\n",
       "        vertical-align: top;\n",
       "    }\n",
       "\n",
       "    .dataframe thead th {\n",
       "        text-align: right;\n",
       "    }\n",
       "</style>\n",
       "<table border=\"1\" class=\"dataframe\">\n",
       "  <thead>\n",
       "    <tr style=\"text-align: right;\">\n",
       "      <th></th>\n",
       "      <th>PC1</th>\n",
       "      <th>PC2</th>\n",
       "      <th>PC3</th>\n",
       "      <th>PC4</th>\n",
       "      <th>PC5</th>\n",
       "      <th>PC6</th>\n",
       "      <th>PC7</th>\n",
       "      <th>PC8</th>\n",
       "      <th>PC9</th>\n",
       "      <th>PC10</th>\n",
       "      <th>PC11</th>\n",
       "      <th>PC12</th>\n",
       "      <th>PC13</th>\n",
       "    </tr>\n",
       "    <tr>\n",
       "      <th>variable</th>\n",
       "      <th></th>\n",
       "      <th></th>\n",
       "      <th></th>\n",
       "      <th></th>\n",
       "      <th></th>\n",
       "      <th></th>\n",
       "      <th></th>\n",
       "      <th></th>\n",
       "      <th></th>\n",
       "      <th></th>\n",
       "      <th></th>\n",
       "      <th></th>\n",
       "      <th></th>\n",
       "    </tr>\n",
       "  </thead>\n",
       "  <tbody>\n",
       "    <tr>\n",
       "      <th>Alcohol</th>\n",
       "      <td>0.144329</td>\n",
       "      <td>-0.483652</td>\n",
       "      <td>-0.207383</td>\n",
       "      <td>-0.017856</td>\n",
       "      <td>-0.265664</td>\n",
       "      <td>-0.213539</td>\n",
       "      <td>-0.056396</td>\n",
       "      <td>-0.396139</td>\n",
       "      <td>0.508619</td>\n",
       "      <td>0.211605</td>\n",
       "      <td>-0.225917</td>\n",
       "      <td>-0.266286</td>\n",
       "      <td>0.014970</td>\n",
       "    </tr>\n",
       "    <tr>\n",
       "      <th>Malic_Acid</th>\n",
       "      <td>-0.245188</td>\n",
       "      <td>-0.224931</td>\n",
       "      <td>0.089013</td>\n",
       "      <td>0.536890</td>\n",
       "      <td>0.035214</td>\n",
       "      <td>-0.536814</td>\n",
       "      <td>0.420524</td>\n",
       "      <td>-0.065827</td>\n",
       "      <td>-0.075283</td>\n",
       "      <td>-0.309080</td>\n",
       "      <td>0.076486</td>\n",
       "      <td>0.121696</td>\n",
       "      <td>0.025964</td>\n",
       "    </tr>\n",
       "    <tr>\n",
       "      <th>Ash</th>\n",
       "      <td>-0.002051</td>\n",
       "      <td>-0.316069</td>\n",
       "      <td>0.626224</td>\n",
       "      <td>-0.214176</td>\n",
       "      <td>-0.143025</td>\n",
       "      <td>-0.154475</td>\n",
       "      <td>-0.149171</td>\n",
       "      <td>0.170260</td>\n",
       "      <td>-0.307694</td>\n",
       "      <td>-0.027125</td>\n",
       "      <td>-0.498691</td>\n",
       "      <td>-0.049622</td>\n",
       "      <td>-0.141218</td>\n",
       "    </tr>\n",
       "    <tr>\n",
       "      <th>Ash_Alcalinity</th>\n",
       "      <td>-0.239320</td>\n",
       "      <td>0.010591</td>\n",
       "      <td>0.612080</td>\n",
       "      <td>0.060859</td>\n",
       "      <td>0.066103</td>\n",
       "      <td>0.100825</td>\n",
       "      <td>-0.286969</td>\n",
       "      <td>-0.427970</td>\n",
       "      <td>0.200449</td>\n",
       "      <td>0.052799</td>\n",
       "      <td>0.479314</td>\n",
       "      <td>-0.055743</td>\n",
       "      <td>0.091683</td>\n",
       "    </tr>\n",
       "    <tr>\n",
       "      <th>Magnesium</th>\n",
       "      <td>0.141992</td>\n",
       "      <td>-0.299634</td>\n",
       "      <td>0.130757</td>\n",
       "      <td>-0.351797</td>\n",
       "      <td>0.727049</td>\n",
       "      <td>-0.038144</td>\n",
       "      <td>0.322883</td>\n",
       "      <td>0.156361</td>\n",
       "      <td>0.271403</td>\n",
       "      <td>0.067870</td>\n",
       "      <td>0.071289</td>\n",
       "      <td>0.062220</td>\n",
       "      <td>0.056774</td>\n",
       "    </tr>\n",
       "    <tr>\n",
       "      <th>Total_Phenols</th>\n",
       "      <td>0.394661</td>\n",
       "      <td>-0.065040</td>\n",
       "      <td>0.146179</td>\n",
       "      <td>0.198068</td>\n",
       "      <td>-0.149318</td>\n",
       "      <td>0.084122</td>\n",
       "      <td>-0.027925</td>\n",
       "      <td>0.405934</td>\n",
       "      <td>0.286035</td>\n",
       "      <td>-0.320131</td>\n",
       "      <td>0.304341</td>\n",
       "      <td>-0.303882</td>\n",
       "      <td>-0.463908</td>\n",
       "    </tr>\n",
       "    <tr>\n",
       "      <th>Flavanoids</th>\n",
       "      <td>0.422934</td>\n",
       "      <td>0.003360</td>\n",
       "      <td>0.150682</td>\n",
       "      <td>0.152295</td>\n",
       "      <td>-0.109026</td>\n",
       "      <td>0.018920</td>\n",
       "      <td>-0.060685</td>\n",
       "      <td>0.187245</td>\n",
       "      <td>0.049578</td>\n",
       "      <td>-0.163151</td>\n",
       "      <td>-0.025694</td>\n",
       "      <td>-0.042899</td>\n",
       "      <td>0.832257</td>\n",
       "    </tr>\n",
       "    <tr>\n",
       "      <th>Nonflavanoid_Phenols</th>\n",
       "      <td>-0.298533</td>\n",
       "      <td>-0.028779</td>\n",
       "      <td>0.170368</td>\n",
       "      <td>-0.203301</td>\n",
       "      <td>-0.500703</td>\n",
       "      <td>0.258594</td>\n",
       "      <td>0.595447</td>\n",
       "      <td>0.233285</td>\n",
       "      <td>0.195501</td>\n",
       "      <td>0.215535</td>\n",
       "      <td>0.116896</td>\n",
       "      <td>0.042352</td>\n",
       "      <td>0.114040</td>\n",
       "    </tr>\n",
       "    <tr>\n",
       "      <th>Proanthocyanins</th>\n",
       "      <td>0.313429</td>\n",
       "      <td>-0.039302</td>\n",
       "      <td>0.149454</td>\n",
       "      <td>0.399057</td>\n",
       "      <td>0.136860</td>\n",
       "      <td>0.533795</td>\n",
       "      <td>0.372139</td>\n",
       "      <td>-0.368227</td>\n",
       "      <td>-0.209145</td>\n",
       "      <td>0.134184</td>\n",
       "      <td>-0.237363</td>\n",
       "      <td>-0.095553</td>\n",
       "      <td>-0.116917</td>\n",
       "    </tr>\n",
       "    <tr>\n",
       "      <th>Color_Intensity</th>\n",
       "      <td>-0.088617</td>\n",
       "      <td>-0.529996</td>\n",
       "      <td>-0.137306</td>\n",
       "      <td>0.065926</td>\n",
       "      <td>-0.076437</td>\n",
       "      <td>0.418644</td>\n",
       "      <td>-0.227712</td>\n",
       "      <td>0.033797</td>\n",
       "      <td>0.056218</td>\n",
       "      <td>-0.290775</td>\n",
       "      <td>0.031839</td>\n",
       "      <td>0.604222</td>\n",
       "      <td>-0.011993</td>\n",
       "    </tr>\n",
       "    <tr>\n",
       "      <th>Hue</th>\n",
       "      <td>0.296715</td>\n",
       "      <td>0.279235</td>\n",
       "      <td>0.085222</td>\n",
       "      <td>-0.427771</td>\n",
       "      <td>-0.173615</td>\n",
       "      <td>-0.105983</td>\n",
       "      <td>0.232076</td>\n",
       "      <td>-0.436624</td>\n",
       "      <td>0.085828</td>\n",
       "      <td>-0.522399</td>\n",
       "      <td>-0.048212</td>\n",
       "      <td>0.259214</td>\n",
       "      <td>-0.089889</td>\n",
       "    </tr>\n",
       "    <tr>\n",
       "      <th>OD280_OD315</th>\n",
       "      <td>0.376167</td>\n",
       "      <td>0.164496</td>\n",
       "      <td>0.166005</td>\n",
       "      <td>0.184121</td>\n",
       "      <td>-0.101161</td>\n",
       "      <td>-0.265851</td>\n",
       "      <td>-0.044764</td>\n",
       "      <td>0.078108</td>\n",
       "      <td>0.137227</td>\n",
       "      <td>0.523706</td>\n",
       "      <td>0.046423</td>\n",
       "      <td>0.600959</td>\n",
       "      <td>-0.156718</td>\n",
       "    </tr>\n",
       "    <tr>\n",
       "      <th>Proline</th>\n",
       "      <td>0.286752</td>\n",
       "      <td>-0.364903</td>\n",
       "      <td>-0.126746</td>\n",
       "      <td>-0.232071</td>\n",
       "      <td>-0.157869</td>\n",
       "      <td>-0.119726</td>\n",
       "      <td>0.076805</td>\n",
       "      <td>-0.120023</td>\n",
       "      <td>-0.575786</td>\n",
       "      <td>0.162116</td>\n",
       "      <td>0.539270</td>\n",
       "      <td>-0.079402</td>\n",
       "      <td>0.014447</td>\n",
       "    </tr>\n",
       "  </tbody>\n",
       "</table>\n",
       "</div>"
      ],
      "text/plain": [
       "                           PC1       PC2       PC3       PC4       PC5  \\\n",
       "variable                                                                 \n",
       "Alcohol               0.144329 -0.483652 -0.207383 -0.017856 -0.265664   \n",
       "Malic_Acid           -0.245188 -0.224931  0.089013  0.536890  0.035214   \n",
       "Ash                  -0.002051 -0.316069  0.626224 -0.214176 -0.143025   \n",
       "Ash_Alcalinity       -0.239320  0.010591  0.612080  0.060859  0.066103   \n",
       "Magnesium             0.141992 -0.299634  0.130757 -0.351797  0.727049   \n",
       "Total_Phenols         0.394661 -0.065040  0.146179  0.198068 -0.149318   \n",
       "Flavanoids            0.422934  0.003360  0.150682  0.152295 -0.109026   \n",
       "Nonflavanoid_Phenols -0.298533 -0.028779  0.170368 -0.203301 -0.500703   \n",
       "Proanthocyanins       0.313429 -0.039302  0.149454  0.399057  0.136860   \n",
       "Color_Intensity      -0.088617 -0.529996 -0.137306  0.065926 -0.076437   \n",
       "Hue                   0.296715  0.279235  0.085222 -0.427771 -0.173615   \n",
       "OD280_OD315           0.376167  0.164496  0.166005  0.184121 -0.101161   \n",
       "Proline               0.286752 -0.364903 -0.126746 -0.232071 -0.157869   \n",
       "\n",
       "                           PC6       PC7       PC8       PC9      PC10  \\\n",
       "variable                                                                 \n",
       "Alcohol              -0.213539 -0.056396 -0.396139  0.508619  0.211605   \n",
       "Malic_Acid           -0.536814  0.420524 -0.065827 -0.075283 -0.309080   \n",
       "Ash                  -0.154475 -0.149171  0.170260 -0.307694 -0.027125   \n",
       "Ash_Alcalinity        0.100825 -0.286969 -0.427970  0.200449  0.052799   \n",
       "Magnesium            -0.038144  0.322883  0.156361  0.271403  0.067870   \n",
       "Total_Phenols         0.084122 -0.027925  0.405934  0.286035 -0.320131   \n",
       "Flavanoids            0.018920 -0.060685  0.187245  0.049578 -0.163151   \n",
       "Nonflavanoid_Phenols  0.258594  0.595447  0.233285  0.195501  0.215535   \n",
       "Proanthocyanins       0.533795  0.372139 -0.368227 -0.209145  0.134184   \n",
       "Color_Intensity       0.418644 -0.227712  0.033797  0.056218 -0.290775   \n",
       "Hue                  -0.105983  0.232076 -0.436624  0.085828 -0.522399   \n",
       "OD280_OD315          -0.265851 -0.044764  0.078108  0.137227  0.523706   \n",
       "Proline              -0.119726  0.076805 -0.120023 -0.575786  0.162116   \n",
       "\n",
       "                          PC11      PC12      PC13  \n",
       "variable                                            \n",
       "Alcohol              -0.225917 -0.266286  0.014970  \n",
       "Malic_Acid            0.076486  0.121696  0.025964  \n",
       "Ash                  -0.498691 -0.049622 -0.141218  \n",
       "Ash_Alcalinity        0.479314 -0.055743  0.091683  \n",
       "Magnesium             0.071289  0.062220  0.056774  \n",
       "Total_Phenols         0.304341 -0.303882 -0.463908  \n",
       "Flavanoids           -0.025694 -0.042899  0.832257  \n",
       "Nonflavanoid_Phenols  0.116896  0.042352  0.114040  \n",
       "Proanthocyanins      -0.237363 -0.095553 -0.116917  \n",
       "Color_Intensity       0.031839  0.604222 -0.011993  \n",
       "Hue                  -0.048212  0.259214 -0.089889  \n",
       "OD280_OD315           0.046423  0.600959 -0.156718  \n",
       "Proline               0.539270 -0.079402  0.014447  "
      ]
     },
     "execution_count": 32,
     "metadata": {},
     "output_type": "execute_result"
    }
   ],
   "source": [
    "pc_list = [\"PC\"+str(i) for i in list(range(1, num_pc+1))]\n",
    "loadings_df = pd.DataFrame.from_dict(dict(zip(pc_list, loadings)))\n",
    "loadings_df['variable'] = wine_df.columns.values\n",
    "loadings_df = loadings_df.set_index('variable')\n",
    "loadings_df\n",
    "# positive and negative values in component loadings reflects the positive and negative \n",
    "# correlation of the variables with the PCs.\n",
    "\n",
    "# 알파, 로딩값(계수)\n",
    "# PCA Loading: 실제 변수가 주성분 결정에 얼마나 많은 영향을 미쳤는지"
   ]
  },
  {
   "cell_type": "code",
   "execution_count": 33,
   "id": "47f6050a",
   "metadata": {},
   "outputs": [
    {
     "data": {
      "image/png": "[encoded data removed]",
      "text/plain": [
       "<Figure size 432x288 with 2 Axes>"
      ]
     },
     "metadata": {
      "needs_background": "light"
     },
     "output_type": "display_data"
    }
   ],
   "source": [
    "# get correlation matrix plot for loadings\n",
    "import seaborn as sns\n",
    "import matplotlib.pyplot as plt\n",
    "ax = sns.heatmap(loadings_df, annot=True, cmap='Spectral')\n",
    "plt.show()"
   ]
  },
  {
   "cell_type": "markdown",
   "id": "269b5500",
   "metadata": {},
   "source": [
    "### scree plot(elbow point)"
   ]
  },
  {
   "cell_type": "code",
   "execution_count": 35,
   "id": "abcc3a48",
   "metadata": {},
   "outputs": [
    {
     "data": {
      "image/png": "[encoded data removed]",
      "text/plain": [
       "<Figure size 1080x720 with 1 Axes>"
      ]
     },
     "metadata": {
      "needs_background": "light"
     },
     "output_type": "display_data"
    },
    {
     "data": {
      "text/plain": [
       "<Figure size 432x288 with 0 Axes>"
      ]
     },
     "metadata": {},
     "output_type": "display_data"
    }
   ],
   "source": [
    "from bioinfokit.visuz import cluster\n",
    "cluster.screeplot(obj=[pc_list, pca_out.explained_variance_ratio_], show=True,dim=(15,10))\n",
    "plt.savefig('screeplot.png', dpi=300, facecolor='#eeeeee')"
   ]
  },
  {
   "cell_type": "code",
   "execution_count": null,
   "id": "8896e0cd",
   "metadata": {},
   "outputs": [],
   "source": [
    "!위 plot을 통해 변수의 개수가 4개만 필요하다는 것을 가늠 할 수 있음(경사도가 4->5에서 급격히 낮아짐)"
   ]
  },
  {
   "cell_type": "markdown",
   "id": "143a5b7a",
   "metadata": {},
   "source": [
    "### PCA score plot"
   ]
  },
  {
   "cell_type": "code",
   "execution_count": 36,
   "id": "1431ff67",
   "metadata": {},
   "outputs": [
    {
     "data": {
      "image/png": "[encoded data removed]",
      "text/plain": [
       "<Figure size 1080x720 with 1 Axes>"
      ]
     },
     "metadata": {
      "needs_background": "light"
     },
     "output_type": "display_data"
    }
   ],
   "source": [
    "# get PC scores\n",
    "pca_scores = PCA().fit_transform(wine_df)\n",
    "\n",
    "# get 2D biplot\n",
    "cluster.scoreplot(cscore=pca_scores, loadings=loadings, labels=wine_df.columns.values, var1=round(pca_out.explained_variance_ratio_[0]*100, 2),\n",
    "    var2=round(pca_out.explained_variance_ratio_[1]*100, 2),colorlist=y,show=True, dim=(15,10))"
   ]
  },
  {
   "cell_type": "code",
   "execution_count": null,
   "id": "d4bcb387",
   "metadata": {},
   "outputs": [],
   "source": []
  },
  {
   "cell_type": "markdown",
   "id": "af7c6671",
   "metadata": {},
   "source": [
    "# MDS(Multidimensional Scaling)"
   ]
  },
  {
   "cell_type": "code",
   "execution_count": null,
   "id": "10547a01",
   "metadata": {},
   "outputs": [],
   "source": [
    "MDS의 목적은 좌표(거리)정보를 유지하면서 차원을 축소 \n",
    "\n",
    "1. D matrix 계산한 뒤,\n",
    "2. d-dimension의 coordinates를 구하는 것이 최종 목표"
   ]
  },
  {
   "cell_type": "code",
   "execution_count": 38,
   "id": "a63db027",
   "metadata": {},
   "outputs": [],
   "source": [
    "from sklearn.manifold import MDS\n",
    "from matplotlib import pyplot as plt\n",
    "import sklearn.datasets as dt\n",
    "import seaborn as sns         \n",
    "import numpy as np\n",
    "from sklearn.metrics.pairwise import manhattan_distances, euclidean_distances\n",
    "from matplotlib.offsetbox import OffsetImage, AnnotationBbox"
   ]
  },
  {
   "cell_type": "code",
   "execution_count": 39,
   "id": "c89f2d96",
   "metadata": {},
   "outputs": [],
   "source": [
    "# D 매트릭스를 만들지 않고 바로 연산하는 경우"
   ]
  },
  {
   "cell_type": "code",
   "execution_count": 42,
   "id": "ee93671c",
   "metadata": {},
   "outputs": [
    {
     "name": "stdout",
     "output_type": "stream",
     "text": [
      "[[ 0.72521687  0.52943352]\n",
      " [ 0.61640884 -0.48411805]\n",
      " [-0.9113603  -0.47905115]\n",
      " [-0.2190564   0.71505714]\n",
      " [-0.21120901 -0.28132146]]\n"
     ]
    }
   ],
   "source": [
    "X = np.array([[0, 0, 0], [0, 0, 1], [1, 1, 1], [0, 1, 0], [0, 1, 1]])\n",
    "mds = MDS(random_state=0)\n",
    "X_transform = mds.fit_transform(X)\n",
    "print(X_transform) # 각 데이터 포인트를 MDS로 차원축소시킨 좌표(coordinates)"
   ]
  },
  {
   "cell_type": "code",
   "execution_count": 43,
   "id": "dd665b0a",
   "metadata": {},
   "outputs": [
    {
     "name": "stdout",
     "output_type": "stream",
     "text": [
      "0.18216844548575456\n"
     ]
    }
   ],
   "source": [
    "stress = mds.stress_\n",
    "print(stress)"
   ]
  },
  {
   "cell_type": "code",
   "execution_count": 44,
   "id": "347f9625",
   "metadata": {},
   "outputs": [
    {
     "data": {
      "image/png": "[encoded data removed]",
      "text/plain": [
       "<Figure size 720x288 with 2 Axes>"
      ]
     },
     "metadata": {
      "needs_background": "light"
     },
     "output_type": "display_data"
    }
   ],
   "source": [
    "colors = ['r', 'g', 'b', 'c', 'm']\n",
    "size = [64, 64, 64, 64, 64]\n",
    "fig = plt.figure(2, (10,4))\n",
    "ax = fig.add_subplot(121, projection='3d')\n",
    "plt.scatter(X[:,0], X[:,1], zs=X[:,2], s=size, c=colors)\n",
    "plt.title('Original Points')\n",
    "\n",
    "ax = fig.add_subplot(122)\n",
    "plt.scatter(X_transform[:,0], X_transform[:,1], s=size, c=colors)\n",
    "plt.title('Embedding in 2D(Euclidean)')\n",
    "fig.subplots_adjust(wspace=.4, hspace=0.5)\n",
    "plt.show()"
   ]
  },
  {
   "cell_type": "code",
   "execution_count": 45,
   "id": "1780f112",
   "metadata": {},
   "outputs": [],
   "source": [
    "# D 매트릭스를 맨하탄 거리로 만들고 바로 연산"
   ]
  },
  {
   "cell_type": "code",
   "execution_count": 47,
   "id": "a27e7ba0",
   "metadata": {},
   "outputs": [
    {
     "name": "stdout",
     "output_type": "stream",
     "text": [
      "[[ 0.9847767   0.84738596]\n",
      " [ 0.81047787 -0.37601578]\n",
      " [-1.104849   -1.06040621]\n",
      " [-0.29311254  0.87364759]\n",
      " [-0.39729303 -0.28461157]]\n"
     ]
    }
   ],
   "source": [
    "X = np.array([[0, 0, 0], [0, 0, 1], [1, 1, 1], [0, 1, 0], [0, 1, 1]])\n",
    "dist_manhattan = manhattan_distances(X)\n",
    "mds = MDS(dissimilarity='precomputed', random_state=0)\n",
    "# Get the embeddings\n",
    "X_transform_L1 = mds.fit_transform(dist_manhattan)\n",
    "print(X_transform_L1) # 각 데이터 포인트를 MDS로 차원축소시킨 좌표(coordinates) <- 맨하탄 거리 사용"
   ]
  },
  {
   "cell_type": "code",
   "execution_count": 48,
   "id": "21f6f2e9",
   "metadata": {},
   "outputs": [
    {
     "data": {
      "image/png": "[encoded data removed]",
      "text/plain": [
       "<Figure size 720x288 with 2 Axes>"
      ]
     },
     "metadata": {
      "needs_background": "light"
     },
     "output_type": "display_data"
    }
   ],
   "source": [
    "colors = ['r', 'g', 'b', 'c', 'm']\n",
    "size = [64, 64, 64, 64, 64]\n",
    "fig = plt.figure(2, (10,4))\n",
    "ax = fig.add_subplot(121, projection='3d')\n",
    "plt.scatter(X[:,0], X[:,1], zs=X[:,2], s=size, c=colors)\n",
    "plt.title('Original Points')\n",
    "\n",
    "ax = fig.add_subplot(122)\n",
    "plt.scatter(X_transform_L1[:,0], X_transform_L1[:,1], s=size, c=colors)\n",
    "plt.title('Embedding in 2D(Manhattan)')\n",
    "fig.subplots_adjust(wspace=.4, hspace=0.5)\n",
    "plt.show()"
   ]
  }
 ],
 "metadata": {
  "kernelspec": {
   "display_name": "jff(python=3.7)",
   "language": "python",
   "name": "jff"
  },
  "language_info": {
   "codemirror_mode": {
    "name": "ipython",
    "version": 3
   },
   "file_extension": ".py",
   "mimetype": "text/x-python",
   "name": "python",
   "nbconvert_exporter": "python",
   "pygments_lexer": "ipython3",
   "version": "3.7.13"
  }
 },
 "nbformat": 4,
 "nbformat_minor": 5
}
