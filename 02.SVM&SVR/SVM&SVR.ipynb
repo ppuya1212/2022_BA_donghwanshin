{
 "cells": [
  {
   "cell_type": "markdown",
   "id": "4363605a",
   "metadata": {},
   "source": [
    "# SVM(Support Vector Machine)"
   ]
  },
  {
   "cell_type": "markdown",
   "id": "41b504e2",
   "metadata": {},
   "source": [
    "#### 선형분리 / 비선형분리"
   ]
  },
  {
   "cell_type": "code",
   "execution_count": null,
   "id": "c1aca1ba",
   "metadata": {},
   "outputs": [],
   "source": [
    "1. linear boundary의 svm\n",
    "2. non-linear boundary의 SVM"
   ]
  },
  {
   "cell_type": "code",
   "execution_count": 3,
   "id": "98d9d82a",
   "metadata": {},
   "outputs": [],
   "source": [
    "import numpy as np\n",
    "import pandas as pd\n",
    "import random\n",
    "from scipy.stats import beta\n",
    "import matplotlib.pyplot as plt\n",
    "%matplotlib inline\n",
    "from sklearn.pipeline import make_pipeline\n",
    "from sklearn.preprocessing import StandardScaler\n",
    "from sklearn.svm import SVC\n",
    "from sklearn.model_selection import train_test_split\n",
    "from sklearn.metrics import confusion_matrix, ConfusionMatrixDisplay, classification_report"
   ]
  },
  {
   "cell_type": "code",
   "execution_count": 4,
   "id": "48a3bded",
   "metadata": {},
   "outputs": [],
   "source": [
    "loan_data = pd.read_csv(r'2022_BA_donghwanshin\\data\\loan_data.csv')"
   ]
  },
  {
   "cell_type": "code",
   "execution_count": 5,
   "id": "29549f75",
   "metadata": {
    "scrolled": false
   },
   "outputs": [
    {
     "name": "stdout",
     "output_type": "stream",
     "text": [
      "<class 'pandas.core.frame.DataFrame'>\n",
      "RangeIndex: 43386 entries, 0 to 43385\n",
      "Data columns (total 23 columns):\n",
      " #   Column         Non-Null Count  Dtype  \n",
      "---  ------         --------------  -----  \n",
      " 0   AGE            43386 non-null  int64  \n",
      " 1   TOT_LOAN       43386 non-null  int64  \n",
      " 2   TOT_LOAN_CRD   43386 non-null  int64  \n",
      " 3   LOAN_BNK       43386 non-null  int64  \n",
      " 4   LOAN_CPT       43386 non-null  int64  \n",
      " 5   CRDT_CNT       43386 non-null  int64  \n",
      " 6   GUARN_CNT      43386 non-null  int64  \n",
      " 7   INCOME         43386 non-null  int64  \n",
      " 8   LOAN_CRD_CNT   43386 non-null  int64  \n",
      " 9   LATE_RATE      43386 non-null  int64  \n",
      " 10  LATE_RATE_1Y   43386 non-null  int64  \n",
      " 11  INS_MON_MAX    43386 non-null  float64\n",
      " 12  CANCEL_CNT_1Y  43386 non-null  int64  \n",
      " 13  CALL_TIME      43386 non-null  float64\n",
      " 14  TEL_COST_MON   43386 non-null  int64  \n",
      " 15  MOBILE_PRICE   43386 non-null  int64  \n",
      " 16  SUSP_DAY       43386 non-null  int64  \n",
      " 17  LATE_TEL       43386 non-null  int64  \n",
      " 18  COMB_COMM      43386 non-null  int64  \n",
      " 19  SEX            43386 non-null  object \n",
      " 20  PAY_METHOD     43386 non-null  object \n",
      " 21  JOB            43386 non-null  object \n",
      " 22  TARGET         43386 non-null  int64  \n",
      "dtypes: float64(2), int64(18), object(3)\n",
      "memory usage: 7.6+ MB\n"
     ]
    }
   ],
   "source": [
    "loan_data.info()"
   ]
  },
  {
   "cell_type": "code",
   "execution_count": 6,
   "id": "e53af8fb",
   "metadata": {},
   "outputs": [],
   "source": [
    "# one-hot encoding for SVM\n",
    "loan_data = pd.get_dummies(data = loan_data, columns = ['SEX','PAY_METHOD','JOB'], prefix = ['SEX','PAY_METHOD','JOB'])"
   ]
  },
  {
   "cell_type": "code",
   "execution_count": 7,
   "id": "54c46fce",
   "metadata": {},
   "outputs": [
    {
     "data": {
      "text/plain": [
       "Index(['AGE', 'TOT_LOAN', 'TOT_LOAN_CRD', 'LOAN_BNK', 'LOAN_CPT', 'CRDT_CNT',\n",
       "       'GUARN_CNT', 'INCOME', 'LOAN_CRD_CNT', 'LATE_RATE', 'LATE_RATE_1Y',\n",
       "       'INS_MON_MAX', 'CANCEL_CNT_1Y', 'CALL_TIME', 'TEL_COST_MON',\n",
       "       'MOBILE_PRICE', 'SUSP_DAY', 'LATE_TEL', 'COMB_COMM', 'TARGET', 'SEX_F',\n",
       "       'SEX_M', 'PAY_METHOD_A', 'PAY_METHOD_B', 'PAY_METHOD_C', 'PAY_METHOD_D',\n",
       "       'JOB_A', 'JOB_B', 'JOB_C', 'JOB_D'],\n",
       "      dtype='object')"
      ]
     },
     "execution_count": 7,
     "metadata": {},
     "output_type": "execute_result"
    }
   ],
   "source": [
    "loan_data.columns"
   ]
  },
  {
   "cell_type": "code",
   "execution_count": 9,
   "id": "c610b421",
   "metadata": {},
   "outputs": [],
   "source": [
    "# data_x,y split\n",
    "X = loan_data.drop('TARGET',axis=1)\n",
    "y = loan_data['TARGET']\n",
    "X_train, X_test, y_train, y_test = train_test_split(X, y, test_size=0.3)"
   ]
  },
  {
   "cell_type": "code",
   "execution_count": null,
   "id": "c309547c",
   "metadata": {},
   "outputs": [],
   "source": [
    "!C값의 설명!\n",
    "로버스트한 SVM을 위해, 노이즈가 있다고 생각하여 오차를 허용하고 hyperplane을 생성하는 방법이 사용됨\n",
    "오차를 많이 허용할 수록, 소프트 마진\n",
    "오차를 적게 허용할 수록, 하드 마진이라고 함\n",
    "\n",
    "C가 클수록 적게 허용 --> 하드 마진\n",
    "\n",
    "C가 작을수록 많이 허용 --> 소프트 마진\n",
    "\n",
    "\n",
    "추가로, 커널을 사용하여 비선형성을 더하고, 비선형 바운더리로 데이터를 구분할 수 있게함"
   ]
  },
  {
   "cell_type": "code",
   "execution_count": 10,
   "id": "d03c9a27",
   "metadata": {},
   "outputs": [],
   "source": [
    "#### linearly separable SVM ####"
   ]
  },
  {
   "cell_type": "code",
   "execution_count": 11,
   "id": "13ffbaa9",
   "metadata": {},
   "outputs": [],
   "source": [
    "# c=0\n",
    "clf_sep = make_pipeline(StandardScaler(), SVC(kernel='linear',C=0.000000001))\n",
    "clf_sep.fit(X_train, y_train)\n",
    "\n",
    "y_pred = clf_sep.predict(X_test)\n",
    "y_true = y_test\n",
    "\n",
    "cm = confusion_matrix(y_true, y_pred)"
   ]
  },
  {
   "cell_type": "code",
   "execution_count": 12,
   "id": "cb2e97e7",
   "metadata": {},
   "outputs": [
    {
     "name": "stdout",
     "output_type": "stream",
     "text": [
      "              precision    recall  f1-score   support\n",
      "\n",
      "           0       0.90      1.00      0.95     11769\n",
      "           1       0.00      0.00      0.00      1247\n",
      "\n",
      "    accuracy                           0.90     13016\n",
      "   macro avg       0.45      0.50      0.47     13016\n",
      "weighted avg       0.82      0.90      0.86     13016\n",
      "\n"
     ]
    },
    {
     "name": "stderr",
     "output_type": "stream",
     "text": [
      "C:\\Users\\ppuya\\anaconda3\\envs\\jff\\lib\\site-packages\\sklearn\\metrics\\_classification.py:1318: UndefinedMetricWarning: Precision and F-score are ill-defined and being set to 0.0 in labels with no predicted samples. Use `zero_division` parameter to control this behavior.\n",
      "  _warn_prf(average, modifier, msg_start, len(result))\n",
      "C:\\Users\\ppuya\\anaconda3\\envs\\jff\\lib\\site-packages\\sklearn\\metrics\\_classification.py:1318: UndefinedMetricWarning: Precision and F-score are ill-defined and being set to 0.0 in labels with no predicted samples. Use `zero_division` parameter to control this behavior.\n",
      "  _warn_prf(average, modifier, msg_start, len(result))\n",
      "C:\\Users\\ppuya\\anaconda3\\envs\\jff\\lib\\site-packages\\sklearn\\metrics\\_classification.py:1318: UndefinedMetricWarning: Precision and F-score are ill-defined and being set to 0.0 in labels with no predicted samples. Use `zero_division` parameter to control this behavior.\n",
      "  _warn_prf(average, modifier, msg_start, len(result))\n"
     ]
    }
   ],
   "source": [
    "print(classification_report(y_true, y_pred, labels = clf_sep.classes_))"
   ]
  },
  {
   "cell_type": "code",
   "execution_count": 13,
   "id": "6cc6bf37",
   "metadata": {},
   "outputs": [
    {
     "data": {
      "image/png": "[encoded data removed]",
      "text/plain": [
       "<Figure size 432x288 with 2 Axes>"
      ]
     },
     "metadata": {
      "needs_background": "light"
     },
     "output_type": "display_data"
    }
   ],
   "source": [
    "#test\n",
    "disp = ConfusionMatrixDisplay(confusion_matrix=cm,\n",
    "                              display_labels=clf_sep.classes_)\n",
    "disp.plot()\n",
    "\n",
    "plt.show()"
   ]
  },
  {
   "cell_type": "code",
   "execution_count": null,
   "id": "c8aebc4e",
   "metadata": {},
   "outputs": [],
   "source": []
  },
  {
   "cell_type": "code",
   "execution_count": 15,
   "id": "d7f8d5be",
   "metadata": {},
   "outputs": [],
   "source": [
    "#### non-linear SVM ####"
   ]
  },
  {
   "cell_type": "code",
   "execution_count": 16,
   "id": "28d9b8ff",
   "metadata": {},
   "outputs": [
    {
     "name": "stdout",
     "output_type": "stream",
     "text": [
      "              precision    recall  f1-score   support\n",
      "\n",
      "           0       0.92      0.99      0.96     11769\n",
      "           1       0.68      0.23      0.35      1247\n",
      "\n",
      "    accuracy                           0.92     13016\n",
      "   macro avg       0.80      0.61      0.65     13016\n",
      "weighted avg       0.90      0.92      0.90     13016\n",
      "\n"
     ]
    }
   ],
   "source": [
    "# Gausian(RBF;Radial Basis Function) kernel\n",
    "clf_rbf = make_pipeline(StandardScaler(), SVC(kernel=\"rbf\",C=2))\n",
    "clf_rbf.fit(X_train, y_train)\n",
    "\n",
    "y_pred = clf_rbf.predict(X_test)\n",
    "y_true = y_test\n",
    "\n",
    "cm = confusion_matrix(y_true, y_pred)\n",
    "\n",
    "print(classification_report(y_true, y_pred, labels = clf_rbf.classes_))"
   ]
  },
  {
   "cell_type": "code",
   "execution_count": 17,
   "id": "b8660a27",
   "metadata": {},
   "outputs": [
    {
     "data": {
      "image/png": "[encoded data removed]",
      "text/plain": [
       "<Figure size 432x288 with 2 Axes>"
      ]
     },
     "metadata": {
      "needs_background": "light"
     },
     "output_type": "display_data"
    }
   ],
   "source": [
    "disp = ConfusionMatrixDisplay(confusion_matrix=cm,\n",
    "                              display_labels=clf_rbf.classes_)\n",
    "disp.plot()\n",
    "\n",
    "plt.show()"
   ]
  },
  {
   "cell_type": "code",
   "execution_count": null,
   "id": "ffe6184a",
   "metadata": {},
   "outputs": [],
   "source": [
    "* 결과 해석\n",
    "linear한 boundary를 가진 SVM에선, 라벨 1을 가진 값들까지도 전부 0으로 분류하는 것을 보면 비선형선을 띤다고 볼 수 있다.\n",
    "\n",
    "따라서, non-linear한 boundary를 위해 Gausian(RBF) 커널을 SVM에 적용 하였을때, 라벨 1을 1로 분류하는 성능이 눈에 띠게 좋아짐을 알 수 있음"
   ]
  },
  {
   "cell_type": "code",
   "execution_count": null,
   "id": "ea1369b0",
   "metadata": {},
   "outputs": [],
   "source": []
  },
  {
   "cell_type": "markdown",
   "id": "689dcace",
   "metadata": {},
   "source": [
    "# SVR(Support Vector Regression)"
   ]
  },
  {
   "cell_type": "markdown",
   "id": "d160bae1",
   "metadata": {},
   "source": [
    "#### (데이터는 scikit-learn에서 제공하는 boston housing데이터 사용)"
   ]
  },
  {
   "cell_type": "code",
   "execution_count": null,
   "id": "6a973337",
   "metadata": {},
   "outputs": [],
   "source": [
    "1. SVR에선, 데이터들의 정규화가 필요함\n",
    "2. SVR학습(fit)\n",
    "3. 결과값 비교"
   ]
  },
  {
   "cell_type": "code",
   "execution_count": 36,
   "id": "ba7b8de5",
   "metadata": {},
   "outputs": [],
   "source": [
    "from sklearn.svm import SVR\n",
    "from sklearn.preprocessing import StandardScaler\n",
    "from sklearn.datasets import load_boston\n",
    "from sklearn.datasets import make_regression\n",
    "from sklearn.metrics import mean_squared_error\n",
    "from sklearn.model_selection import train_test_split\n",
    "from sklearn.model_selection import cross_val_score\n",
    "import matplotlib.pyplot as plt\n",
    "%matplotlib inline\n",
    "from sklearn.pipeline import make_pipeline"
   ]
  },
  {
   "cell_type": "code",
   "execution_count": 26,
   "id": "d6a498ca",
   "metadata": {},
   "outputs": [],
   "source": [
    "# boston housing dataset load\n",
    "boston = load_boston()"
   ]
  },
  {
   "cell_type": "code",
   "execution_count": 29,
   "id": "656049c1",
   "metadata": {
    "collapsed": true
   },
   "outputs": [
    {
     "data": {
      "text/plain": [
       "{'data': array([[6.3200e-03, 1.8000e+01, 2.3100e+00, ..., 1.5300e+01, 3.9690e+02,\n",
       "         4.9800e+00],\n",
       "        [2.7310e-02, 0.0000e+00, 7.0700e+00, ..., 1.7800e+01, 3.9690e+02,\n",
       "         9.1400e+00],\n",
       "        [2.7290e-02, 0.0000e+00, 7.0700e+00, ..., 1.7800e+01, 3.9283e+02,\n",
       "         4.0300e+00],\n",
       "        ...,\n",
       "        [6.0760e-02, 0.0000e+00, 1.1930e+01, ..., 2.1000e+01, 3.9690e+02,\n",
       "         5.6400e+00],\n",
       "        [1.0959e-01, 0.0000e+00, 1.1930e+01, ..., 2.1000e+01, 3.9345e+02,\n",
       "         6.4800e+00],\n",
       "        [4.7410e-02, 0.0000e+00, 1.1930e+01, ..., 2.1000e+01, 3.9690e+02,\n",
       "         7.8800e+00]]),\n",
       " 'target': array([24. , 21.6, 34.7, 33.4, 36.2, 28.7, 22.9, 27.1, 16.5, 18.9, 15. ,\n",
       "        18.9, 21.7, 20.4, 18.2, 19.9, 23.1, 17.5, 20.2, 18.2, 13.6, 19.6,\n",
       "        15.2, 14.5, 15.6, 13.9, 16.6, 14.8, 18.4, 21. , 12.7, 14.5, 13.2,\n",
       "        13.1, 13.5, 18.9, 20. , 21. , 24.7, 30.8, 34.9, 26.6, 25.3, 24.7,\n",
       "        21.2, 19.3, 20. , 16.6, 14.4, 19.4, 19.7, 20.5, 25. , 23.4, 18.9,\n",
       "        35.4, 24.7, 31.6, 23.3, 19.6, 18.7, 16. , 22.2, 25. , 33. , 23.5,\n",
       "        19.4, 22. , 17.4, 20.9, 24.2, 21.7, 22.8, 23.4, 24.1, 21.4, 20. ,\n",
       "        20.8, 21.2, 20.3, 28. , 23.9, 24.8, 22.9, 23.9, 26.6, 22.5, 22.2,\n",
       "        23.6, 28.7, 22.6, 22. , 22.9, 25. , 20.6, 28.4, 21.4, 38.7, 43.8,\n",
       "        33.2, 27.5, 26.5, 18.6, 19.3, 20.1, 19.5, 19.5, 20.4, 19.8, 19.4,\n",
       "        21.7, 22.8, 18.8, 18.7, 18.5, 18.3, 21.2, 19.2, 20.4, 19.3, 22. ,\n",
       "        20.3, 20.5, 17.3, 18.8, 21.4, 15.7, 16.2, 18. , 14.3, 19.2, 19.6,\n",
       "        23. , 18.4, 15.6, 18.1, 17.4, 17.1, 13.3, 17.8, 14. , 14.4, 13.4,\n",
       "        15.6, 11.8, 13.8, 15.6, 14.6, 17.8, 15.4, 21.5, 19.6, 15.3, 19.4,\n",
       "        17. , 15.6, 13.1, 41.3, 24.3, 23.3, 27. , 50. , 50. , 50. , 22.7,\n",
       "        25. , 50. , 23.8, 23.8, 22.3, 17.4, 19.1, 23.1, 23.6, 22.6, 29.4,\n",
       "        23.2, 24.6, 29.9, 37.2, 39.8, 36.2, 37.9, 32.5, 26.4, 29.6, 50. ,\n",
       "        32. , 29.8, 34.9, 37. , 30.5, 36.4, 31.1, 29.1, 50. , 33.3, 30.3,\n",
       "        34.6, 34.9, 32.9, 24.1, 42.3, 48.5, 50. , 22.6, 24.4, 22.5, 24.4,\n",
       "        20. , 21.7, 19.3, 22.4, 28.1, 23.7, 25. , 23.3, 28.7, 21.5, 23. ,\n",
       "        26.7, 21.7, 27.5, 30.1, 44.8, 50. , 37.6, 31.6, 46.7, 31.5, 24.3,\n",
       "        31.7, 41.7, 48.3, 29. , 24. , 25.1, 31.5, 23.7, 23.3, 22. , 20.1,\n",
       "        22.2, 23.7, 17.6, 18.5, 24.3, 20.5, 24.5, 26.2, 24.4, 24.8, 29.6,\n",
       "        42.8, 21.9, 20.9, 44. , 50. , 36. , 30.1, 33.8, 43.1, 48.8, 31. ,\n",
       "        36.5, 22.8, 30.7, 50. , 43.5, 20.7, 21.1, 25.2, 24.4, 35.2, 32.4,\n",
       "        32. , 33.2, 33.1, 29.1, 35.1, 45.4, 35.4, 46. , 50. , 32.2, 22. ,\n",
       "        20.1, 23.2, 22.3, 24.8, 28.5, 37.3, 27.9, 23.9, 21.7, 28.6, 27.1,\n",
       "        20.3, 22.5, 29. , 24.8, 22. , 26.4, 33.1, 36.1, 28.4, 33.4, 28.2,\n",
       "        22.8, 20.3, 16.1, 22.1, 19.4, 21.6, 23.8, 16.2, 17.8, 19.8, 23.1,\n",
       "        21. , 23.8, 23.1, 20.4, 18.5, 25. , 24.6, 23. , 22.2, 19.3, 22.6,\n",
       "        19.8, 17.1, 19.4, 22.2, 20.7, 21.1, 19.5, 18.5, 20.6, 19. , 18.7,\n",
       "        32.7, 16.5, 23.9, 31.2, 17.5, 17.2, 23.1, 24.5, 26.6, 22.9, 24.1,\n",
       "        18.6, 30.1, 18.2, 20.6, 17.8, 21.7, 22.7, 22.6, 25. , 19.9, 20.8,\n",
       "        16.8, 21.9, 27.5, 21.9, 23.1, 50. , 50. , 50. , 50. , 50. , 13.8,\n",
       "        13.8, 15. , 13.9, 13.3, 13.1, 10.2, 10.4, 10.9, 11.3, 12.3,  8.8,\n",
       "         7.2, 10.5,  7.4, 10.2, 11.5, 15.1, 23.2,  9.7, 13.8, 12.7, 13.1,\n",
       "        12.5,  8.5,  5. ,  6.3,  5.6,  7.2, 12.1,  8.3,  8.5,  5. , 11.9,\n",
       "        27.9, 17.2, 27.5, 15. , 17.2, 17.9, 16.3,  7. ,  7.2,  7.5, 10.4,\n",
       "         8.8,  8.4, 16.7, 14.2, 20.8, 13.4, 11.7,  8.3, 10.2, 10.9, 11. ,\n",
       "         9.5, 14.5, 14.1, 16.1, 14.3, 11.7, 13.4,  9.6,  8.7,  8.4, 12.8,\n",
       "        10.5, 17.1, 18.4, 15.4, 10.8, 11.8, 14.9, 12.6, 14.1, 13. , 13.4,\n",
       "        15.2, 16.1, 17.8, 14.9, 14.1, 12.7, 13.5, 14.9, 20. , 16.4, 17.7,\n",
       "        19.5, 20.2, 21.4, 19.9, 19. , 19.1, 19.1, 20.1, 19.9, 19.6, 23.2,\n",
       "        29.8, 13.8, 13.3, 16.7, 12. , 14.6, 21.4, 23. , 23.7, 25. , 21.8,\n",
       "        20.6, 21.2, 19.1, 20.6, 15.2,  7. ,  8.1, 13.6, 20.1, 21.8, 24.5,\n",
       "        23.1, 19.7, 18.3, 21.2, 17.5, 16.8, 22.4, 20.6, 23.9, 22. , 11.9]),\n",
       " 'feature_names': array(['CRIM', 'ZN', 'INDUS', 'CHAS', 'NOX', 'RM', 'AGE', 'DIS', 'RAD',\n",
       "        'TAX', 'PTRATIO', 'B', 'LSTAT'], dtype='<U7'),\n",
       " 'DESCR': \".. _boston_dataset:\\n\\nBoston house prices dataset\\n---------------------------\\n\\n**Data Set Characteristics:**  \\n\\n    :Number of Instances: 506 \\n\\n    :Number of Attributes: 13 numeric/categorical predictive. Median Value (attribute 14) is usually the target.\\n\\n    :Attribute Information (in order):\\n        - CRIM     per capita crime rate by town\\n        - ZN       proportion of residential land zoned for lots over 25,000 sq.ft.\\n        - INDUS    proportion of non-retail business acres per town\\n        - CHAS     Charles River dummy variable (= 1 if tract bounds river; 0 otherwise)\\n        - NOX      nitric oxides concentration (parts per 10 million)\\n        - RM       average number of rooms per dwelling\\n        - AGE      proportion of owner-occupied units built prior to 1940\\n        - DIS      weighted distances to five Boston employment centres\\n        - RAD      index of accessibility to radial highways\\n        - TAX      full-value property-tax rate per $10,000\\n        - PTRATIO  pupil-teacher ratio by town\\n        - B        1000(Bk - 0.63)^2 where Bk is the proportion of black people by town\\n        - LSTAT    % lower status of the population\\n        - MEDV     Median value of owner-occupied homes in $1000's\\n\\n    :Missing Attribute Values: None\\n\\n    :Creator: Harrison, D. and Rubinfeld, D.L.\\n\\nThis is a copy of UCI ML housing dataset.\\nhttps://archive.ics.uci.edu/ml/machine-learning-databases/housing/\\n\\n\\nThis dataset was taken from the StatLib library which is maintained at Carnegie Mellon University.\\n\\nThe Boston house-price data of Harrison, D. and Rubinfeld, D.L. 'Hedonic\\nprices and the demand for clean air', J. Environ. Economics & Management,\\nvol.5, 81-102, 1978.   Used in Belsley, Kuh & Welsch, 'Regression diagnostics\\n...', Wiley, 1980.   N.B. Various transformations are used in the table on\\npages 244-261 of the latter.\\n\\nThe Boston house-price data has been used in many machine learning papers that address regression\\nproblems.   \\n     \\n.. topic:: References\\n\\n   - Belsley, Kuh & Welsch, 'Regression diagnostics: Identifying Influential Data and Sources of Collinearity', Wiley, 1980. 244-261.\\n   - Quinlan,R. (1993). Combining Instance-Based and Model-Based Learning. In Proceedings on the Tenth International Conference of Machine Learning, 236-243, University of Massachusetts, Amherst. Morgan Kaufmann.\\n\",\n",
       " 'filename': 'boston_house_prices.csv',\n",
       " 'data_module': 'sklearn.datasets.data'}"
      ]
     },
     "execution_count": 29,
     "metadata": {},
     "output_type": "execute_result"
    }
   ],
   "source": [
    "boston"
   ]
  },
  {
   "cell_type": "code",
   "execution_count": null,
   "id": "b55247ec",
   "metadata": {},
   "outputs": [],
   "source": [
    "# c=0\n",
    "clf_sep = make_pipeline(StandardScaler(), SVC(kernel='linear',C=0.000000001))\n",
    "clf_sep.fit(X_train, y_train)\n",
    "\n",
    "y_pred = clf_sep.predict(X_test)\n",
    "y_true = y_test\n",
    "\n",
    "cm = confusion_matrix(y_true, y_pred)"
   ]
  },
  {
   "cell_type": "code",
   "execution_count": 32,
   "id": "c2ba08b1",
   "metadata": {},
   "outputs": [],
   "source": [
    "X, y = boston.data, boston.target\n",
    "\n",
    "# data_x,y split\n",
    "X_train, X_test, y_train, y_test = train_test_split(X, y, test_size=0.3)"
   ]
  },
  {
   "cell_type": "code",
   "execution_count": 47,
   "id": "bb7ae6b0",
   "metadata": {},
   "outputs": [
    {
     "data": {
      "text/plain": [
       "Pipeline(steps=[('standardscaler', StandardScaler()),\n",
       "                ('svr', SVR(gamma='auto'))])"
      ]
     },
     "execution_count": 47,
     "metadata": {},
     "output_type": "execute_result"
    }
   ],
   "source": [
    "# Gausian(RBF) kernel\n",
    "svr = make_pipeline(StandardScaler(), SVR(kernel='rbf', gamma='auto'))\n",
    "svr.fit(X_train, y_train)"
   ]
  },
  {
   "cell_type": "code",
   "execution_count": 48,
   "id": "478d2e90",
   "metadata": {},
   "outputs": [
    {
     "name": "stdout",
     "output_type": "stream",
     "text": [
      "R-squared:  0.6635306750304195\n"
     ]
    }
   ],
   "source": [
    "# R-squared for training evaluation\n",
    "score = svr.score(X_train, y_train)\n",
    "print(\"R-squared: \", score)"
   ]
  },
  {
   "cell_type": "code",
   "execution_count": 49,
   "id": "22a4cd71",
   "metadata": {},
   "outputs": [],
   "source": [
    "# predict\n",
    "y_pred = svr.predict(X_test)"
   ]
  },
  {
   "cell_type": "code",
   "execution_count": 50,
   "id": "db0f081a",
   "metadata": {},
   "outputs": [
    {
     "name": "stdout",
     "output_type": "stream",
     "text": [
      "MSE:  27.847063766924432\n"
     ]
    }
   ],
   "source": [
    "# mse\n",
    "mse = mean_squared_error(y_test, y_pred)\n",
    "print(\"MSE: \", mse)"
   ]
  },
  {
   "cell_type": "code",
   "execution_count": 51,
   "id": "a4c5b523",
   "metadata": {},
   "outputs": [
    {
     "data": {
      "image/png": "[encoded data removed]",
      "text/plain": [
       "<Figure size 432x288 with 1 Axes>"
      ]
     },
     "metadata": {
      "needs_background": "light"
     },
     "output_type": "display_data"
    }
   ],
   "source": [
    "# plot\n",
    "x__ax = range(len(y_test))\n",
    "plt.plot(x__ax, y_test, label='original value')\n",
    "plt.plot(x__ax, y_pred, label=\"predict value\")\n",
    "plt.title(\"Botson housing test w/ SVR - rbf kernel\")\n",
    "plt.legend()\n",
    "plt.show()"
   ]
  },
  {
   "cell_type": "code",
   "execution_count": null,
   "id": "d712d426",
   "metadata": {},
   "outputs": [],
   "source": []
  },
  {
   "cell_type": "code",
   "execution_count": 41,
   "id": "12552fa6",
   "metadata": {},
   "outputs": [
    {
     "data": {
      "text/plain": [
       "Pipeline(steps=[('standardscaler', StandardScaler()),\n",
       "                ('svr', SVR(gamma='auto', kernel='poly'))])"
      ]
     },
     "execution_count": 41,
     "metadata": {},
     "output_type": "execute_result"
    }
   ],
   "source": [
    "# polynomial kernel\n",
    "svr = make_pipeline(StandardScaler(), SVR(kernel='poly', gamma='auto'))\n",
    "svr.fit(X_train, y_train)"
   ]
  },
  {
   "cell_type": "code",
   "execution_count": 42,
   "id": "21d54a3e",
   "metadata": {},
   "outputs": [
    {
     "name": "stdout",
     "output_type": "stream",
     "text": [
      "R-squared:  0.6823961507383017\n"
     ]
    }
   ],
   "source": [
    "# R-squared for training evaluation\n",
    "score = svr.score(X_train, y_train)\n",
    "print(\"R-squared: \", score)"
   ]
  },
  {
   "cell_type": "code",
   "execution_count": 43,
   "id": "5f920c4e",
   "metadata": {},
   "outputs": [],
   "source": [
    "# predict\n",
    "y_pred = svr.predict(X_test)"
   ]
  },
  {
   "cell_type": "code",
   "execution_count": 44,
   "id": "8e3cc518",
   "metadata": {},
   "outputs": [
    {
     "name": "stdout",
     "output_type": "stream",
     "text": [
      "MSE:  30.71774414590945\n"
     ]
    }
   ],
   "source": [
    "# mse\n",
    "mse = mean_squared_error(y_test, y_pred)\n",
    "print(\"MSE: \", mse)"
   ]
  },
  {
   "cell_type": "code",
   "execution_count": 46,
   "id": "fed5d8b8",
   "metadata": {},
   "outputs": [
    {
     "data": {
      "image/png": "[encoded data removed]",
      "text/plain": [
       "<Figure size 432x288 with 1 Axes>"
      ]
     },
     "metadata": {
      "needs_background": "light"
     },
     "output_type": "display_data"
    }
   ],
   "source": [
    "# plot\n",
    "x__ax = range(len(y_test))\n",
    "plt.plot(x__ax, y_test, label='original value')\n",
    "plt.plot(x__ax, y_pred, label=\"predict value\")\n",
    "plt.title(\"Botson housing test w/ SVR - polynomial kernel\")\n",
    "plt.legend()\n",
    "plt.show()"
   ]
  },
  {
   "cell_type": "code",
   "execution_count": null,
   "id": "e6976f5a",
   "metadata": {},
   "outputs": [],
   "source": []
  },
  {
   "cell_type": "code",
   "execution_count": null,
   "id": "082807df",
   "metadata": {},
   "outputs": [],
   "source": [
    "*결과해석\n",
    "SVR(Support Vector Regression)은 linear하지 않는 data들에 대해서, 가우시안 커널등을 사용해 비선형성을 띠는 데이터를 회귀분석하기에\n",
    "적합하다. \n",
    "\n",
    "위 그래프에서도 볼 수 있듯이, 비선형성을 위해 kernel을 추가해, 큰 추세를 벗어나지 않고 예측하는 하는 것을 볼 수 있음"
   ]
  },
  {
   "cell_type": "code",
   "execution_count": null,
   "id": "19da05fa",
   "metadata": {},
   "outputs": [],
   "source": []
  }
 ],
 "metadata": {
  "kernelspec": {
   "display_name": "jff(python=3.7)",
   "language": "python",
   "name": "jff"
  },
  "language_info": {
   "codemirror_mode": {
    "name": "ipython",
    "version": 3
   },
   "file_extension": ".py",
   "mimetype": "text/x-python",
   "name": "python",
   "nbconvert_exporter": "python",
   "pygments_lexer": "ipython3",
   "version": "3.7.13"
  }
 },
 "nbformat": 4,
 "nbformat_minor": 5
}
